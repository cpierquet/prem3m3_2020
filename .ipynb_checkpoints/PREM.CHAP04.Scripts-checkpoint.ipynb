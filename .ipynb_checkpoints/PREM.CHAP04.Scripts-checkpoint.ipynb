{
 "cells": [
  {
   "cell_type": "code",
   "execution_count": 2,
   "metadata": {},
   "outputs": [],
   "source": [
    "#les racines\n",
    "from math import *\n",
    "\n",
    "def racines(a,b,c):\n",
    "    assert a!=0, \"a doit être non nul\"\n",
    "    delta = b**2 - 4*a*c\n",
    "    if delta > 0:\n",
    "        return (-b+sqrt(delta))/(2*a),(-b-sqrt(delta))/(2*a)\n",
    "    elif delta == 0:\n",
    "        return -b/(2*a)"
   ]
  },
  {
   "cell_type": "code",
   "execution_count": 3,
   "metadata": {},
   "outputs": [],
   "source": [
    "#le signe\n",
    "from math import *\n",
    "\n",
    "def signe(a,b,c):\n",
    "    assert a!=0, \"a doit être non nul\"\n",
    "    delta = b**2 - 4*a*c\n",
    "    if delta > 0:\n",
    "        print(f\"Les racines sont {racines(a,b,c)}\")\n",
    "        if a>0:\n",
    "            print(f\"Le signe du trinôme est +0-0+\")\n",
    "        else :\n",
    "            print(f\"Le signe du trinôme est -0+0-\")\n",
    "    elif delta == 0:\n",
    "        print(f\"La racine est {racines(a,b,c)}\")\n",
    "        if a>0:\n",
    "            print(f\"Le signe du trinôme est +0+\")\n",
    "        else :\n",
    "            print(f\"Le signe du trinôme est -0-\")\n",
    "    else :\n",
    "        print(f\"Pas de racine\")\n",
    "        if a>0:\n",
    "            print(f\"Le signe du trinôme est +\")\n",
    "        else :\n",
    "            print(f\"Le signe du trinôme est -\")\n",
    "    print(\"----------\")"
   ]
  },
  {
   "cell_type": "code",
   "execution_count": 5,
   "metadata": {},
   "outputs": [
    {
     "name": "stdout",
     "output_type": "stream",
     "text": [
      "Les racines sont (-2.0, -3.0)\n",
      "Le signe du trinôme est +0-0+\n",
      "----------\n"
     ]
    }
   ],
   "source": [
    "signe(1,5,6)"
   ]
  },
  {
   "cell_type": "code",
   "execution_count": 4,
   "metadata": {},
   "outputs": [
    {
     "name": "stdout",
     "output_type": "stream",
     "text": [
      "Pas de racine\n",
      "Le signe du trinôme est +\n",
      "----------\n"
     ]
    }
   ],
   "source": [
    "signe(1,1,1)"
   ]
  },
  {
   "cell_type": "code",
   "execution_count": 6,
   "metadata": {},
   "outputs": [
    {
     "name": "stdout",
     "output_type": "stream",
     "text": [
      "La racine est -3.0\n",
      "Le signe du trinôme est -0-\n",
      "----------\n"
     ]
    }
   ],
   "source": [
    "signe(1,1,1)"
   ]
  },
  {
   "cell_type": "code",
   "execution_count": null,
   "metadata": {},
   "outputs": [],
   "source": []
  }
 ],
 "metadata": {
  "kernelspec": {
   "display_name": "Python 3",
   "language": "python",
   "name": "python3"
  },
  "language_info": {
   "codemirror_mode": {
    "name": "ipython",
    "version": 3
   },
   "file_extension": ".py",
   "mimetype": "text/x-python",
   "name": "python",
   "nbconvert_exporter": "python",
   "pygments_lexer": "ipython3",
   "version": "3.9.0"
  }
 },
 "nbformat": 4,
 "nbformat_minor": 4
}
