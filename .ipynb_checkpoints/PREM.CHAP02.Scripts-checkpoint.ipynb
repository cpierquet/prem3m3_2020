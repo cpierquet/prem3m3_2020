{
 "cells": [
  {
   "cell_type": "markdown",
   "metadata": {},
   "source": [
    "## Chapitre 02 - Suites numériques (v1)"
   ]
  },
  {
   "cell_type": "code",
   "execution_count": 1,
   "metadata": {},
   "outputs": [],
   "source": [
    "#pour calculer un terme donné d’une suite récurrente\n",
    "#ici u0=300 et u(n+1)=1.02*u(n)\n",
    "\n",
    "def terme_un(n):\n",
    "    u = 300                     #1er terme de la suite\n",
    "    for i in range(1,n+1) :     #i va de 1 à n\n",
    "        u = 1.02 * u                  #formule de récurrence\n",
    "    return u"
   ]
  },
  {
   "cell_type": "code",
   "execution_count": 2,
   "metadata": {},
   "outputs": [
    {
     "data": {
      "text/plain": [
       "365.69832599842726"
      ]
     },
     "execution_count": 2,
     "metadata": {},
     "output_type": "execute_result"
    }
   ],
   "source": [
    "terme_un(10)"
   ]
  },
  {
   "cell_type": "code",
   "execution_count": 4,
   "metadata": {},
   "outputs": [],
   "source": [
    "#algorithme de seuil (avec la suite précédente)\n",
    "\n",
    "def seuil(S) :\n",
    "    n = 0               #rang initial\n",
    "    u = 300             #300€ disponibles\n",
    "    while u < S :       #tant qu'on a moins de S euros\n",
    "        u = 1.02 * u    #on ajoute 2%\n",
    "        n = n + 1       #on incrémente\n",
    "    return n,u          #on renvoie le rang et la somme"
   ]
  },
  {
   "cell_type": "code",
   "execution_count": 5,
   "metadata": {},
   "outputs": [
    {
     "data": {
      "text/plain": [
       "(15, 403.7605014972391)"
      ]
     },
     "execution_count": 5,
     "metadata": {},
     "output_type": "execute_result"
    }
   ],
   "source": [
    "seuil(400)"
   ]
  },
  {
   "cell_type": "code",
   "execution_count": 6,
   "metadata": {},
   "outputs": [],
   "source": [
    "#recherche de la somme des termes d’une suite (ici u(n)=n²)\n",
    "\n",
    "def somme_carres(n) :\n",
    "    u = 1                    #le 1er carré vaut 1\n",
    "    s = 1                    #la somme aussi\n",
    "    for i in range(2,n+1) :  #i va de 2 à n\n",
    "        u = i**2             #u_i = i²\n",
    "        s = s + u            #on augmente la somme partielle de u\n",
    "    return s                 #on affiche la somme complète"
   ]
  },
  {
   "cell_type": "code",
   "execution_count": 7,
   "metadata": {},
   "outputs": [
    {
     "data": {
      "text/plain": [
       "42925"
      ]
     },
     "execution_count": 7,
     "metadata": {},
     "output_type": "execute_result"
    }
   ],
   "source": [
    "somme_carres(50)"
   ]
  },
  {
   "cell_type": "code",
   "execution_count": null,
   "metadata": {},
   "outputs": [],
   "source": []
  }
 ],
 "metadata": {
  "kernelspec": {
   "display_name": "Python 3",
   "language": "python",
   "name": "python3"
  },
  "language_info": {
   "codemirror_mode": {
    "name": "ipython",
    "version": 3
   },
   "file_extension": ".py",
   "mimetype": "text/x-python",
   "name": "python",
   "nbconvert_exporter": "python",
   "pygments_lexer": "ipython3",
   "version": "3.9.0"
  }
 },
 "nbformat": 4,
 "nbformat_minor": 4
}
