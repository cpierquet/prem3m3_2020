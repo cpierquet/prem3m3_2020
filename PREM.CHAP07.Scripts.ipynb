{
 "cells": [
  {
   "cell_type": "markdown",
   "metadata": {},
   "source": [
    "# Chapitre 07 - Dérivation locale"
   ]
  },
  {
   "cell_type": "code",
   "execution_count": 5,
   "metadata": {},
   "outputs": [
    {
     "name": "stdout",
     "output_type": "stream",
     "text": [
      "-0.25000006249997764\n"
     ]
    }
   ],
   "source": [
    "from scipy.misc import derivative\n",
    "\n",
    "def f(x): # Fonction à dériver\n",
    "    return 1/x\n",
    "\n",
    "#valeur approchée du nombre dérivé f'(2)=-1/4\n",
    "print(derivative(f, 2, 0.001))\n",
    "\n",
    "#par le taux d'accroissement\n",
    "def taux(fonct,a,h):\n",
    "    return (f(a+h)-f(a))/h\n",
    "\n",
    "def limite(fonct,a):\n",
    "    for n in range(1,10):\n",
    "        h=10**(-n)\n",
    "        print(f\"Pour h={h}, le taux d'accroissement vaut environ {taux(fonct,a,h)}\")"
   ]
  },
  {
   "cell_type": "code",
   "execution_count": 4,
   "metadata": {},
   "outputs": [
    {
     "data": {
      "text/plain": [
       "-0.24875621890546595"
      ]
     },
     "execution_count": 4,
     "metadata": {},
     "output_type": "execute_result"
    }
   ],
   "source": [
    "taux(f,2,0.01)"
   ]
  },
  {
   "cell_type": "code",
   "execution_count": 6,
   "metadata": {},
   "outputs": [
    {
     "name": "stdout",
     "output_type": "stream",
     "text": [
      "Pour h=0.1, le taux d'accroissement vaut environ -0.23809523809523836\n",
      "Pour h=0.01, le taux d'accroissement vaut environ -0.24875621890546595\n",
      "Pour h=0.001, le taux d'accroissement vaut environ -0.2498750624687629\n",
      "Pour h=0.0001, le taux d'accroissement vaut environ -0.2499875006256591\n",
      "Pour h=1e-05, le taux d'accroissement vaut environ -0.24999875000708546\n",
      "Pour h=1e-06, le taux d'accroissement vaut environ -0.24999987502383192\n",
      "Pour h=1e-07, le taux d'accroissement vaut environ -0.2499999868232905\n",
      "Pour h=1e-08, le taux d'accroissement vaut environ -0.24999999848063226\n",
      "Pour h=1e-09, le taux d'accroissement vaut environ -0.25000002068509275\n"
     ]
    }
   ],
   "source": [
    "limite(f,2)"
   ]
  },
  {
   "cell_type": "code",
   "execution_count": null,
   "metadata": {},
   "outputs": [],
   "source": []
  }
 ],
 "metadata": {
  "kernelspec": {
   "display_name": "Python 3",
   "language": "python",
   "name": "python3"
  },
  "language_info": {
   "codemirror_mode": {
    "name": "ipython",
    "version": 3
   },
   "file_extension": ".py",
   "mimetype": "text/x-python",
   "name": "python",
   "nbconvert_exporter": "python",
   "pygments_lexer": "ipython3",
   "version": "3.9.1"
  }
 },
 "nbformat": 4,
 "nbformat_minor": 4
}
