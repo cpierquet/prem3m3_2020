{
 "cells": [
  {
   "cell_type": "markdown",
   "metadata": {},
   "source": [
    "# Chapitre 05 - Probabilités conditionnelles"
   ]
  },
  {
   "cell_type": "markdown",
   "metadata": {},
   "source": [
    "## Avec remise"
   ]
  },
  {
   "cell_type": "code",
   "execution_count": 11,
   "metadata": {},
   "outputs": [],
   "source": [
    "#tirage avec remise, boucle pour avec probas identiques !\n",
    "#on peut utiliser randint() pour générer l'univers\n",
    "from random import randint\n",
    "def tirage():\n",
    "    tirage=[]\n",
    "    for i in range(2):\n",
    "        if randint(1,8)<=3:\n",
    "            tirage.append(\"bleu\")\n",
    "        else :\n",
    "            tirage.append(\"vert\")\n",
    "    return(tirage)"
   ]
  },
  {
   "cell_type": "code",
   "execution_count": 12,
   "metadata": {},
   "outputs": [
    {
     "name": "stdout",
     "output_type": "stream",
     "text": [
      "['vert', 'vert']\n",
      "['vert', 'vert']\n",
      "['vert', 'vert']\n",
      "['vert', 'vert']\n",
      "['bleu', 'bleu']\n"
     ]
    }
   ],
   "source": [
    "for i in range(5):\n",
    "    print(tirage())"
   ]
  },
  {
   "cell_type": "markdown",
   "metadata": {},
   "source": [
    "## Sans remise (v1)"
   ]
  },
  {
   "cell_type": "code",
   "execution_count": 13,
   "metadata": {},
   "outputs": [],
   "source": [
    "#tirage sans remise\n",
    "#utilisation massive de if then else dûs aux probas conditionnelles !!\n",
    "def tirage_sans_remise():\n",
    "    resultat=[]\n",
    "    #1er tirage, parmi les 20 objets\n",
    "    premchoix = randint(1,20)\n",
    "    if premchoix <= 10 :\n",
    "        resultat.append(\"bleu\")\n",
    "    elif 11 <= premchoix <= 18 :\n",
    "        resultat.append(\"vert\")\n",
    "    else :\n",
    "        resultat.append(\"rouge\")\n",
    "    #2ème tirage, parmi les 19 restants, dépendants du 1er tirage...\n",
    "    deuxchoix = randint(1,19)\n",
    "    if premchoix <= 10 : #1er choix bleu donc 9B+8V+2R  \n",
    "        if deuxchoix <= 9 :\n",
    "            resultat.append(\"bleu\")\n",
    "        elif 10 <= deuxchoix <= 17 :\n",
    "            resultat.append(\"vert\")\n",
    "        else :\n",
    "            resultat.append(\"rouge\")\n",
    "    elif 11 <= premchoix <= 18 : #1er choix vert donc 10B+7V+2R  \n",
    "        if deuxchoix <= 10 :\n",
    "            resultat.append(\"bleu\")\n",
    "        elif 10 <= deuxchoix <= 17 :\n",
    "            resultat.append(\"vert\")\n",
    "        else :\n",
    "            resultat.append(\"rouge\")\n",
    "    else : #1er choix rouge donc 10B+8V+1R  \n",
    "        if deuxchoix <= 10 :\n",
    "            resultat.append(\"bleu\")\n",
    "        elif 10 <= deuxchoix <= 18 :\n",
    "            resultat.append(\"vert\")\n",
    "        else :\n",
    "            resultat.append(\"rouge\")\n",
    "    return(resultat)"
   ]
  },
  {
   "cell_type": "code",
   "execution_count": 14,
   "metadata": {},
   "outputs": [
    {
     "name": "stdout",
     "output_type": "stream",
     "text": [
      "['vert', 'bleu']\n",
      "['vert', 'vert']\n",
      "['vert', 'bleu']\n",
      "['bleu', 'bleu']\n",
      "['vert', 'bleu']\n",
      "['vert', 'bleu']\n",
      "['bleu', 'bleu']\n",
      "['bleu', 'vert']\n",
      "['bleu', 'vert']\n",
      "['vert', 'vert']\n"
     ]
    }
   ],
   "source": [
    "for i in range(10):\n",
    "    print(tirage_sans_remise())"
   ]
  },
  {
   "cell_type": "markdown",
   "metadata": {},
   "source": [
    "## Sans remise (v2)"
   ]
  },
  {
   "cell_type": "code",
   "execution_count": 15,
   "metadata": {},
   "outputs": [],
   "source": [
    "#ou encore mieux pour la sans remise, avec l'unvers sous forme d'ensemble !\n",
    "from random import randint,choice\n",
    "def tirage_sans_remise_mieux():\n",
    "    resultat = []\n",
    "    urne = ['bleu']*10 + ['vert']*8 + ['rouge']*2\n",
    "    premchoix = choice(urne)        #on tire au sort une boule\n",
    "    resultat.append(premchoix)      #on ajoute la couleur au résultat \n",
    "    urne.remove(premchoix)          #on enlève la boule\n",
    "    deuxchoix = choice(urne)        #on tire au sort une nouvelle boule\n",
    "    resultat.append(deuxchoix)      #on ajoute la couleur au résultat \n",
    "    return resultat"
   ]
  },
  {
   "cell_type": "code",
   "execution_count": 17,
   "metadata": {},
   "outputs": [
    {
     "name": "stdout",
     "output_type": "stream",
     "text": [
      "['bleu', 'bleu']\n",
      "['bleu', 'rouge']\n",
      "['bleu', 'vert']\n",
      "['rouge', 'vert']\n",
      "['vert', 'bleu']\n",
      "['rouge', 'bleu']\n",
      "['vert', 'vert']\n",
      "['bleu', 'vert']\n",
      "['bleu', 'bleu']\n",
      "['vert', 'vert']\n"
     ]
    }
   ],
   "source": [
    "for i in range(10):\n",
    "    print(tirage_sans_remise_mieux())"
   ]
  },
  {
   "cell_type": "code",
   "execution_count": null,
   "metadata": {},
   "outputs": [],
   "source": []
  }
 ],
 "metadata": {
  "kernelspec": {
   "display_name": "Python 3",
   "language": "python",
   "name": "python3"
  },
  "language_info": {
   "codemirror_mode": {
    "name": "ipython",
    "version": 3
   },
   "file_extension": ".py",
   "mimetype": "text/x-python",
   "name": "python",
   "nbconvert_exporter": "python",
   "pygments_lexer": "ipython3",
   "version": "3.9.1"
  }
 },
 "nbformat": 4,
 "nbformat_minor": 4
}
